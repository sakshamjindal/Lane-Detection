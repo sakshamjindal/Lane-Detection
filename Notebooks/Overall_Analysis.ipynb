{
 "cells": [
  {
   "cell_type": "code",
   "execution_count": 12,
   "metadata": {},
   "outputs": [],
   "source": [
    "import sys\n",
    "sys.path.append(\"../\")"
   ]
  },
  {
   "cell_type": "code",
   "execution_count": 13,
   "metadata": {},
   "outputs": [],
   "source": [
    "import torch\n",
    "import numpy as np\n",
    "import json\n",
    "import matplotlib.pyplot as plt\n",
    "import cv2\n",
    "import os\n",
    "from torch.utils.data import Dataset, DataLoader\n",
    "from PIL import Image\n",
    "from torchvision import transforms\n",
    "from tqdm import tqdm\n",
    "import pandas as pd\n",
    "\n",
    "from seger.datasets.seg_dataset import LaneDataset\n",
    "from seger.models.networks import get_network\n",
    "from seger.loss import get_loss\n",
    "from seger.metric import IOU,fscore_batch,fscore\n",
    "from Notebooks.utils import *\n",
    "import glob"
   ]
  },
  {
   "cell_type": "code",
   "execution_count": 14,
   "metadata": {},
   "outputs": [],
   "source": [
    "config_files = glob.glob(\"../Experiments/*/*.json\")"
   ]
  },
  {
   "cell_type": "code",
   "execution_count": 15,
   "metadata": {},
   "outputs": [
    {
     "name": "stdout",
     "output_type": "stream",
     "text": [
      "['../Experiments/exp1_lane/baseline-1.json', '../Experiments/exp2_lane/baseline-2.json', '../Experiments/exp3_lane/baseline-3.json', '../Experiments/exp4_lane/baseline-4.json', '../Experiments/exp5_lane/baseline-5.json', '../Experiments/exp6_lane/baseline-6.json', '../Experiments/exp7_lane/baseline-7.json', '../Experiments/exp8_lane/baseline-8.json']\n"
     ]
    }
   ],
   "source": [
    "config_files.sort()\n",
    "print(config_files)"
   ]
  },
  {
   "cell_type": "markdown",
   "metadata": {},
   "source": [
    "# Single Experiment Loss IOU Calculation"
   ]
  },
  {
   "cell_type": "code",
   "execution_count": 16,
   "metadata": {},
   "outputs": [],
   "source": [
    "config_file = \"../cfgs/baseline-8.json\""
   ]
  },
  {
   "cell_type": "code",
   "execution_count": 17,
   "metadata": {},
   "outputs": [
    {
     "name": "stdout",
     "output_type": "stream",
     "text": [
      "Initializing SCNN...\n"
     ]
    }
   ],
   "source": [
    "with open(config_file) as fp:\n",
    "    cfg = json.load(fp)\n",
    "    \n",
    "arch_name = cfg[\"arch\"][\"arch_name\"]\n",
    "experiment_name = cfg[\"model_stuff\"][\"exp_name\"]\n",
    "MODEL_PATH = \"../Experiments/{}/best.pth\".format(experiment_name)\n",
    "cfg[\"arch\"][\"arch_kwargs\"][\"pretrained\"] = False\n",
    "input_size = cfg[\"train\"][\"width\"], cfg[\"train\"][\"height\"]\n",
    "\n",
    "cfg[\"data\"][\"train_data\"] = \"../\" + cfg[\"data\"][\"train_data\"]\n",
    "cfg[\"data\"][\"valid_data\"] = \"../\" + cfg[\"data\"][\"valid_data\"]\n",
    "cfg[\"data\"][\"train_root\"] = \"../\" + cfg[\"data\"][\"train_root\"]\n",
    "cfg[\"data\"][\"label_root\"] = \"../\" + cfg[\"data\"][\"label_root\"]\n",
    "\n",
    "train_file = cfg[\"data\"][\"train_data\"]\n",
    "val_file = cfg[\"data\"][\"valid_data\"]\n",
    "train_root = cfg[\"data\"][\"train_root\"]\n",
    "label_root = cfg[\"data\"][\"label_root\"]\n",
    "\n",
    "model = get_network(cfg[\"data\"][\"input_channels\"], cfg[\"data\"][\"num_classes\"], cfg[\"arch\"][\"arch_name\"], cfg[\"arch\"][\"arch_kwargs\"])\n",
    "model.cuda()\n",
    "model.load_state_dict(torch.load(MODEL_PATH)[\"model_weights\"])\n",
    "\n",
    "loss_kwargs = {\"num_classes\": cfg[\"data\"][\"num_classes\"], \"weights\": cfg[\"train\"][\"loss_kwargs\"][\"weights\"]}\n",
    "criterion = get_loss(cfg[\"train\"][\"loss\"], loss_kwargs)"
   ]
  },
  {
   "cell_type": "code",
   "execution_count": 18,
   "metadata": {},
   "outputs": [],
   "source": [
    "train_dataset = LaneDataset(cfg, augmentations = True , train=True)\n",
    "trainloader = torch.utils.data.DataLoader(train_dataset, batch_size=cfg[\"train\"][\"batch_size\"],\n",
    "                                                       num_workers=2, shuffle=True)"
   ]
  },
  {
   "cell_type": "code",
   "execution_count": 19,
   "metadata": {},
   "outputs": [],
   "source": [
    "val_dataset = LaneDataset(cfg, augmentations = False , train=False)\n",
    "valloader = torch.utils.data.DataLoader(val_dataset, batch_size=cfg[\"train\"][\"batch_size\"], num_workers=2,\n",
    "                                                     shuffle=True)"
   ]
  },
  {
   "cell_type": "code",
   "execution_count": 20,
   "metadata": {},
   "outputs": [],
   "source": [
    "loaders = [trainloader,valloader]"
   ]
  },
  {
   "cell_type": "code",
   "execution_count": 21,
   "metadata": {},
   "outputs": [
    {
     "name": "stderr",
     "output_type": "stream",
     "text": [
      "100%|██████████| 57/57 [00:24<00:00,  2.28it/s]\n",
      "100%|██████████| 7/7 [00:02<00:00,  2.45it/s]\n"
     ]
    }
   ],
   "source": [
    "data = [experiment_name]\n",
    "\n",
    "for loader in loaders:\n",
    "    \n",
    "    loss_counter = []\n",
    "    acc_counter = []\n",
    "    \n",
    "    for k in tqdm(loader):\n",
    "        with torch.set_grad_enabled(False):\n",
    "\n",
    "            model.zero_grad()\n",
    "            inputs, targets = k\n",
    "\n",
    "\n",
    "            if cfg[\"device\"][\"use_gpu\"]:\n",
    "                inputs = inputs.cuda()\n",
    "                targets = targets.cuda()\n",
    "\n",
    "            outputs = model(inputs)\n",
    "\n",
    "            if isinstance(outputs, tuple):\n",
    "                _, __ = outputs\n",
    "                outputs = _  \n",
    "\n",
    "            final_loss = criterion(outputs, targets).data.item()\n",
    "            iou = fscore_batch(targets,outputs)\n",
    "\n",
    "            loss_counter.append(final_loss)\n",
    "            acc_counter.append(iou)\n",
    "\n",
    "    mean_iou = np.mean(iou)\n",
    "    mean_loss = np.mean(final_loss)\n",
    "\n",
    "    data.append(mean_loss)\n",
    "    data.append(mean_iou)\n",
    "    \n"
   ]
  },
  {
   "cell_type": "code",
   "execution_count": 22,
   "metadata": {},
   "outputs": [
    {
     "data": {
      "text/plain": [
       "['exp8_lane',\n",
       " 0.15743012726306915,\n",
       " 0.27086318679644,\n",
       " 0.22220154106616974,\n",
       " 0.20721008102847605]"
      ]
     },
     "execution_count": 22,
     "metadata": {},
     "output_type": "execute_result"
    }
   ],
   "source": [
    "data"
   ]
  },
  {
   "cell_type": "markdown",
   "metadata": {},
   "source": [
    "# Overall  Analysis"
   ]
  },
  {
   "cell_type": "code",
   "execution_count": 23,
   "metadata": {},
   "outputs": [],
   "source": [
    "df = pd.DataFrame()"
   ]
  },
  {
   "cell_type": "code",
   "execution_count": 24,
   "metadata": {},
   "outputs": [
    {
     "name": "stdout",
     "output_type": "stream",
     "text": [
      "Initializing Deeplabv3...\n"
     ]
    },
    {
     "name": "stderr",
     "output_type": "stream",
     "text": [
      "100%|██████████| 15/15 [00:27<00:00,  1.84s/it]\n",
      "100%|██████████| 2/2 [00:03<00:00,  1.56s/it]\n",
      "100%|██████████| 15/15 [00:28<00:00,  1.92s/it]\n",
      "100%|██████████| 2/2 [00:02<00:00,  1.41s/it]\n"
     ]
    },
    {
     "name": "stdout",
     "output_type": "stream",
     "text": [
      "Initializing SCNN...\n"
     ]
    },
    {
     "name": "stderr",
     "output_type": "stream",
     "text": [
      "100%|██████████| 57/57 [00:32<00:00,  1.74it/s]\n",
      "100%|██████████| 7/7 [00:03<00:00,  2.13it/s]\n"
     ]
    },
    {
     "name": "stdout",
     "output_type": "stream",
     "text": [
      "Initializing SCNN...\n"
     ]
    },
    {
     "name": "stderr",
     "output_type": "stream",
     "text": [
      "  0%|          | 0/57 [00:00<?, ?it/s]"
     ]
    },
    {
     "name": "stdout",
     "output_type": "stream",
     "text": [
      "Dice Loss multi class\n"
     ]
    },
    {
     "name": "stderr",
     "output_type": "stream",
     "text": [
      "100%|██████████| 57/57 [00:31<00:00,  1.82it/s]\n",
      "100%|██████████| 7/7 [00:03<00:00,  2.08it/s]\n"
     ]
    },
    {
     "name": "stdout",
     "output_type": "stream",
     "text": [
      "Initializing Deeplabv3...\n"
     ]
    },
    {
     "name": "stderr",
     "output_type": "stream",
     "text": [
      "100%|██████████| 15/15 [00:28<00:00,  1.92s/it]\n",
      "100%|██████████| 2/2 [00:03<00:00,  1.55s/it]\n",
      "  0%|          | 0/57 [00:00<?, ?it/s]"
     ]
    },
    {
     "name": "stdout",
     "output_type": "stream",
     "text": [
      "Initializing ERFNet...\n"
     ]
    },
    {
     "name": "stderr",
     "output_type": "stream",
     "text": [
      "100%|██████████| 57/57 [00:35<00:00,  1.61it/s]\n",
      "100%|██████████| 7/7 [00:02<00:00,  2.36it/s]\n",
      "  0%|          | 0/57 [00:00<?, ?it/s]"
     ]
    },
    {
     "name": "stdout",
     "output_type": "stream",
     "text": [
      "Initializing ERFNet...\n"
     ]
    },
    {
     "name": "stderr",
     "output_type": "stream",
     "text": [
      "100%|██████████| 57/57 [00:34<00:00,  1.66it/s]\n",
      "100%|██████████| 7/7 [00:02<00:00,  2.41it/s]\n"
     ]
    },
    {
     "name": "stdout",
     "output_type": "stream",
     "text": [
      "Initializing SCNN...\n"
     ]
    },
    {
     "name": "stderr",
     "output_type": "stream",
     "text": [
      "100%|██████████| 57/57 [00:34<00:00,  1.65it/s]\n",
      "100%|██████████| 7/7 [00:03<00:00,  2.11it/s]\n"
     ]
    }
   ],
   "source": [
    "for config_file in config_files:\n",
    "\n",
    "    with open(config_file) as fp:\n",
    "        cfg = json.load(fp)\n",
    "\n",
    "    arch_name = cfg[\"arch\"][\"arch_name\"]\n",
    "    optimizer_name = cfg[\"train\"][\"optim\"]\n",
    "    lr_scheduler_name = cfg[\"train\"][\"sched_name\"]\n",
    "    loss_name = cfg[\"train\"][\"loss\"]\n",
    "    loss_weights = str(cfg[\"train\"][\"loss_kwargs\"][\"weights\"][0]) + \":\" + str(cfg[\"train\"][\"loss_kwargs\"][\"weights\"][1])\n",
    "        \n",
    "    experiment_name = cfg[\"model_stuff\"][\"exp_name\"]\n",
    "    MODEL_PATH = \"../Experiments/{}/best.pth\".format(experiment_name)\n",
    "    cfg[\"arch\"][\"arch_kwargs\"][\"pretrained\"] = False\n",
    "    input_size = cfg[\"train\"][\"width\"], cfg[\"train\"][\"height\"]\n",
    "\n",
    "    cfg[\"data\"][\"train_data\"] = \"../\" + cfg[\"data\"][\"train_data\"]\n",
    "    cfg[\"data\"][\"valid_data\"] = \"../\" + cfg[\"data\"][\"valid_data\"]\n",
    "    cfg[\"data\"][\"train_root\"] = \"../\" + cfg[\"data\"][\"train_root\"]\n",
    "    cfg[\"data\"][\"label_root\"] = \"../\" + cfg[\"data\"][\"label_root\"]\n",
    "    \n",
    "\n",
    "    train_file = cfg[\"data\"][\"train_data\"]\n",
    "    val_file = cfg[\"data\"][\"valid_data\"]\n",
    "    train_root = cfg[\"data\"][\"train_root\"]\n",
    "    label_root = cfg[\"data\"][\"label_root\"]\n",
    "\n",
    "    model = get_network(cfg[\"data\"][\"input_channels\"], cfg[\"data\"][\"num_classes\"], cfg[\"arch\"][\"arch_name\"], cfg[\"arch\"][\"arch_kwargs\"])\n",
    "    model.cuda()\n",
    "    model.load_state_dict(torch.load(MODEL_PATH)[\"model_weights\"])\n",
    "\n",
    "    loss_kwargs = {\"num_classes\": cfg[\"data\"][\"num_classes\"], \"weights\": cfg[\"train\"][\"loss_kwargs\"][\"weights\"]}\n",
    "    criterion = get_loss(cfg[\"train\"][\"loss\"], loss_kwargs)\n",
    "\n",
    "\n",
    "    train_dataset = LaneDataset(cfg, augmentations = True , train=True)\n",
    "    trainloader = torch.utils.data.DataLoader(train_dataset, batch_size=cfg[\"train\"][\"batch_size\"],\n",
    "                                                           num_workers=2, shuffle=True)\n",
    "\n",
    "    val_dataset = LaneDataset(cfg, augmentations = False , train=False)\n",
    "    valloader = torch.utils.data.DataLoader(val_dataset, batch_size=cfg[\"train\"][\"batch_size\"], num_workers=2,\n",
    "                                                         shuffle=True)\n",
    "\n",
    "    loaders = [trainloader,valloader]\n",
    "\n",
    "    data = [experiment_name]\n",
    "\n",
    "    for loader in loaders:\n",
    "\n",
    "        loss_counter = []\n",
    "        acc_counter = []\n",
    "\n",
    "        for k in tqdm(loader):\n",
    "            with torch.set_grad_enabled(False):\n",
    "\n",
    "                model.zero_grad()\n",
    "                inputs, targets = k\n",
    "\n",
    "\n",
    "                if cfg[\"device\"][\"use_gpu\"]:\n",
    "                    inputs = inputs.cuda()\n",
    "                    targets = targets.cuda()\n",
    "\n",
    "                outputs = model(inputs)\n",
    "\n",
    "                if isinstance(outputs, tuple):\n",
    "                    _, __ = outputs\n",
    "                    outputs = _  \n",
    "\n",
    "                final_loss = criterion(outputs, targets).data.item()\n",
    "                iou = fscore_batch(targets,outputs)\n",
    "\n",
    "                loss_counter.append(final_loss)\n",
    "                acc_counter.append(iou)\n",
    "\n",
    "        mean_iou = np.mean(iou)\n",
    "        mean_loss = np.mean(final_loss)\n",
    "\n",
    "        data.append(mean_loss)\n",
    "        data.append(mean_iou)\n",
    "        \n",
    "    print(data)\n",
    "\n",
    "    result_dict = {\"exp_name\":data[0], \n",
    "                   \"arch_name\" : arch_name, \n",
    "                   \"optimizer_name\":optimizer_name,\n",
    "                   \"lr_scheduler_name\":lr_scheduler_name,\n",
    "                   \"loss_name\":loss_name,\n",
    "                   \"loss_weights\":loss_weights,\n",
    "                   \"train_loss\":data[1],\"train_iou\":data[2],\n",
    "                   \"val_loss\":data[3],\n",
    "                   \"val_iou\":data[4]}\n",
    "    \n",
    "    df = df.append(result_dict,ignore_index=True)\n"
   ]
  },
  {
   "cell_type": "code",
   "execution_count": 25,
   "metadata": {},
   "outputs": [
    {
     "data": {
      "text/html": [
       "<div>\n",
       "<style scoped>\n",
       "    .dataframe tbody tr th:only-of-type {\n",
       "        vertical-align: middle;\n",
       "    }\n",
       "\n",
       "    .dataframe tbody tr th {\n",
       "        vertical-align: top;\n",
       "    }\n",
       "\n",
       "    .dataframe thead th {\n",
       "        text-align: right;\n",
       "    }\n",
       "</style>\n",
       "<table border=\"1\" class=\"dataframe\">\n",
       "  <thead>\n",
       "    <tr style=\"text-align: right;\">\n",
       "      <th></th>\n",
       "      <th>arch_name</th>\n",
       "      <th>exp_name</th>\n",
       "      <th>loss_name</th>\n",
       "      <th>loss_weights</th>\n",
       "      <th>lr_scheduler_name</th>\n",
       "      <th>optimizer_name</th>\n",
       "      <th>train_iou</th>\n",
       "      <th>train_loss</th>\n",
       "      <th>val_iou</th>\n",
       "      <th>val_loss</th>\n",
       "    </tr>\n",
       "  </thead>\n",
       "  <tbody>\n",
       "    <tr>\n",
       "      <td>0</td>\n",
       "      <td>deeplabv3</td>\n",
       "      <td>exp1_lane</td>\n",
       "      <td>weighed_ce_loss</td>\n",
       "      <td>1:200</td>\n",
       "      <td>sgdr</td>\n",
       "      <td>adam</td>\n",
       "      <td>0.041956</td>\n",
       "      <td>0.284672</td>\n",
       "      <td>0.034351</td>\n",
       "      <td>0.344927</td>\n",
       "    </tr>\n",
       "    <tr>\n",
       "      <td>1</td>\n",
       "      <td>enet</td>\n",
       "      <td>exp2_lane</td>\n",
       "      <td>weighed_ce_loss</td>\n",
       "      <td>1:200</td>\n",
       "      <td>sgdr</td>\n",
       "      <td>sgd</td>\n",
       "      <td>0.032687</td>\n",
       "      <td>0.484465</td>\n",
       "      <td>0.037739</td>\n",
       "      <td>0.309494</td>\n",
       "    </tr>\n",
       "    <tr>\n",
       "      <td>2</td>\n",
       "      <td>scnn</td>\n",
       "      <td>exp3_lane</td>\n",
       "      <td>weighed_ce_loss</td>\n",
       "      <td>1:100</td>\n",
       "      <td>sgdr</td>\n",
       "      <td>sgd</td>\n",
       "      <td>0.160970</td>\n",
       "      <td>0.203453</td>\n",
       "      <td>0.076592</td>\n",
       "      <td>0.198199</td>\n",
       "    </tr>\n",
       "    <tr>\n",
       "      <td>3</td>\n",
       "      <td>scnn</td>\n",
       "      <td>exp4_lane</td>\n",
       "      <td>dice</td>\n",
       "      <td>1:100</td>\n",
       "      <td>sgdr</td>\n",
       "      <td>sgd</td>\n",
       "      <td>0.006782</td>\n",
       "      <td>0.999798</td>\n",
       "      <td>0.025242</td>\n",
       "      <td>0.999964</td>\n",
       "    </tr>\n",
       "    <tr>\n",
       "      <td>4</td>\n",
       "      <td>deeplabv3</td>\n",
       "      <td>exp5_lane</td>\n",
       "      <td>weighed_ce_loss</td>\n",
       "      <td>1:200</td>\n",
       "      <td>StepLR</td>\n",
       "      <td>adam</td>\n",
       "      <td>0.042474</td>\n",
       "      <td>0.350330</td>\n",
       "      <td>0.034330</td>\n",
       "      <td>0.307646</td>\n",
       "    </tr>\n",
       "    <tr>\n",
       "      <td>5</td>\n",
       "      <td>erfnet</td>\n",
       "      <td>exp6_lane</td>\n",
       "      <td>weighed_ce_loss</td>\n",
       "      <td>1:100</td>\n",
       "      <td>sgdr</td>\n",
       "      <td>sgd</td>\n",
       "      <td>0.163666</td>\n",
       "      <td>0.118408</td>\n",
       "      <td>0.082704</td>\n",
       "      <td>0.195643</td>\n",
       "    </tr>\n",
       "    <tr>\n",
       "      <td>6</td>\n",
       "      <td>erfnet</td>\n",
       "      <td>exp7_lane</td>\n",
       "      <td>weighed_ce_loss</td>\n",
       "      <td>1:25</td>\n",
       "      <td>sgdr</td>\n",
       "      <td>sgd</td>\n",
       "      <td>0.292846</td>\n",
       "      <td>0.093007</td>\n",
       "      <td>0.161362</td>\n",
       "      <td>0.220175</td>\n",
       "    </tr>\n",
       "    <tr>\n",
       "      <td>7</td>\n",
       "      <td>scnn</td>\n",
       "      <td>exp8_lane</td>\n",
       "      <td>weighed_ce_loss</td>\n",
       "      <td>1:25</td>\n",
       "      <td>sgdr</td>\n",
       "      <td>sgd</td>\n",
       "      <td>0.292293</td>\n",
       "      <td>0.140799</td>\n",
       "      <td>0.137654</td>\n",
       "      <td>0.224384</td>\n",
       "    </tr>\n",
       "  </tbody>\n",
       "</table>\n",
       "</div>"
      ],
      "text/plain": [
       "   arch_name   exp_name        loss_name loss_weights lr_scheduler_name  \\\n",
       "0  deeplabv3  exp1_lane  weighed_ce_loss        1:200              sgdr   \n",
       "1       enet  exp2_lane  weighed_ce_loss        1:200              sgdr   \n",
       "2       scnn  exp3_lane  weighed_ce_loss        1:100              sgdr   \n",
       "3       scnn  exp4_lane             dice        1:100              sgdr   \n",
       "4  deeplabv3  exp5_lane  weighed_ce_loss        1:200            StepLR   \n",
       "5     erfnet  exp6_lane  weighed_ce_loss        1:100              sgdr   \n",
       "6     erfnet  exp7_lane  weighed_ce_loss         1:25              sgdr   \n",
       "7       scnn  exp8_lane  weighed_ce_loss         1:25              sgdr   \n",
       "\n",
       "  optimizer_name  train_iou  train_loss   val_iou  val_loss  \n",
       "0           adam   0.041956    0.284672  0.034351  0.344927  \n",
       "1            sgd   0.032687    0.484465  0.037739  0.309494  \n",
       "2            sgd   0.160970    0.203453  0.076592  0.198199  \n",
       "3            sgd   0.006782    0.999798  0.025242  0.999964  \n",
       "4           adam   0.042474    0.350330  0.034330  0.307646  \n",
       "5            sgd   0.163666    0.118408  0.082704  0.195643  \n",
       "6            sgd   0.292846    0.093007  0.161362  0.220175  \n",
       "7            sgd   0.292293    0.140799  0.137654  0.224384  "
      ]
     },
     "execution_count": 25,
     "metadata": {},
     "output_type": "execute_result"
    }
   ],
   "source": [
    "df"
   ]
  },
  {
   "cell_type": "code",
   "execution_count": 27,
   "metadata": {},
   "outputs": [],
   "source": [
    "df.to_csv(\"../experiment_result_summary.csv\",index=False)"
   ]
  },
  {
   "cell_type": "code",
   "execution_count": null,
   "metadata": {},
   "outputs": [],
   "source": []
  }
 ],
 "metadata": {
  "kernelspec": {
   "display_name": "Lane",
   "language": "python",
   "name": "lane"
  },
  "language_info": {
   "codemirror_mode": {
    "name": "ipython",
    "version": 3
   },
   "file_extension": ".py",
   "mimetype": "text/x-python",
   "name": "python",
   "nbconvert_exporter": "python",
   "pygments_lexer": "ipython3",
   "version": "3.7.4"
  }
 },
 "nbformat": 4,
 "nbformat_minor": 4
}
